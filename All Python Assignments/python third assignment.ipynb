{
 "cells": [
  {
   "cell_type": "code",
   "execution_count": 1,
   "id": "49bc8245",
   "metadata": {},
   "outputs": [
    {
     "name": "stdout",
     "output_type": "stream",
     "text": [
      "Twinkle, twinkle, little star, \n",
      "\tHow I wonder what you are! \n",
      "\t\t Up above the world so high,\n",
      "\t\t Like a diamond in the sky. \n",
      " Twinkle, twinkle, little star, \n",
      "\t How I wonder what you are\n"
     ]
    }
   ],
   "source": [
    "\"\"\"\n",
    "Question 1: Write a Python program to print the following string in a specific format (see the\n",
    "output).\n",
    "\n",
    "Twinkle, twinkle, little star,\n",
    "How I wonder what you are!\n",
    "Up above the world so high,\n",
    "Like a diamond in the sky.\n",
    "\n",
    "Twinkle, twinkle, little star,\n",
    "How I wonder what you are\n",
    "\"\"\"\n",
    "print(\"Twinkle, twinkle, little star, \\n\\tHow I wonder what you are! \\n\\t\\t Up above the world so high,\\n\\t\\t Like a diamond in the sky. \\n Twinkle, twinkle, little star, \\n\\t How I wonder what you are\");"
   ]
  },
  {
   "cell_type": "code",
   "execution_count": 2,
   "id": "b0abb868",
   "metadata": {},
   "outputs": [
    {
     "name": "stdout",
     "output_type": "stream",
     "text": [
      "Python Version\n",
      "3.8.8 (default, Apr 13 2021, 15:08:03) [MSC v.1916 64 bit (AMD64)]\n",
      "Version Information\n",
      "sys.version_info(major=3, minor=8, micro=8, releaselevel='final', serial=0)\n"
     ]
    }
   ],
   "source": [
    "# Question 2: Write a Python program to get the Python version you are using.\n",
    "import sys\n",
    "print(\"Python Version\");\n",
    "print (sys.version);\n",
    "print(\"Version Information\");\n",
    "print (sys.version_info);"
   ]
  },
  {
   "cell_type": "code",
   "execution_count": 3,
   "id": "e0574356",
   "metadata": {},
   "outputs": [
    {
     "name": "stdout",
     "output_type": "stream",
     "text": [
      "2021-10-25 02:55:59.007917\n"
     ]
    }
   ],
   "source": [
    "# Question 3: Write a Python program to display the current date and time.\n",
    "import datetime\n",
    "date_time = datetime.datetime.now();\n",
    "print(date_time);"
   ]
  },
  {
   "cell_type": "code",
   "execution_count": 5,
   "id": "661b0e6c",
   "metadata": {},
   "outputs": [
    {
     "name": "stdout",
     "output_type": "stream",
     "text": [
      "Enter the radius of the circle: 22.5\n",
      "The radius of the circle is 22.5\n",
      "The area of the circle is 1589.625\n"
     ]
    }
   ],
   "source": [
    "\"\"\"\n",
    "Question 4: Write a Python program which accepts the radius of a circle from the user and compute\n",
    "the area.\n",
    "A = πr^2 (Area Formula)\n",
    "r = c/2π (Radius Formula)\n",
    "c = 2πr (Circumference Formula)\n",
    "\"\"\"\n",
    "pi = 3.14;\n",
    "r = float(input(\"Enter the radius of the circle: \"));\n",
    "print(\"The radius of the circle is \" + str(r));\n",
    "print(\"The area of the circle is \" + str(pi*r**2));"
   ]
  },
  {
   "cell_type": "code",
   "execution_count": 13,
   "id": "c7e06f96",
   "metadata": {},
   "outputs": [
    {
     "name": "stdout",
     "output_type": "stream",
     "text": [
      "Enter your first name: Asad\n",
      "Enter your last name: Ali\n",
      "ilA dasA\n"
     ]
    }
   ],
   "source": [
    "\"\"\"\n",
    "Question 5: Write a Python program which accepts the user's first and last name and print them in\n",
    "reverse order with a space between them.\n",
    "\"\"\"\n",
    "def myfun(a):\n",
    "    return a[::-1]\n",
    "fname = input(\"Enter your first name: \");\n",
    "lname = input(\"Enter your last name: \");\n",
    "name = myfun(fname + \" \" + lname);\n",
    "print(name);"
   ]
  },
  {
   "cell_type": "code",
   "execution_count": 14,
   "id": "9c472ab1",
   "metadata": {},
   "outputs": [
    {
     "name": "stdout",
     "output_type": "stream",
     "text": [
      "Enter first number: 5\n",
      "Enter second number: 10\n",
      "15\n"
     ]
    }
   ],
   "source": [
    "# Question 6: Write a python program which takes two inputs from user and print them addition.\n",
    "a = int(input(\"Enter first number: \"));\n",
    "b = int(input(\"Enter second number: \"));\n",
    "add = a + b;\n",
    "print(add);"
   ]
  },
  {
   "cell_type": "code",
   "execution_count": 1,
   "id": "1b5366cb",
   "metadata": {},
   "outputs": [
    {
     "name": "stdout",
     "output_type": "stream",
     "text": [
      "Enter Your Full Name: Asad Ali\n",
      "Enter English Mark's: 65\n",
      "Enter Islamiat Mark's: 70\n",
      "Enter Maths Mark's: 84\n",
      "Enter Physics Mark's: 78\n",
      "Enter Pak Studies Mark's: 75\n",
      "------------------------------Marksheet-------------------------------\n",
      "Your Name: Asad Ali\n",
      "Your English Mark's: 65\n",
      "Your Islamiat Mark's: 70\n",
      "Your Maths Mark's: 84\n",
      "Your Physics Mark's: 78\n",
      "Your Pak Studies Mark's: 75\n",
      "Total Mark's: 500\n",
      "Obtain Mark's: 372\n",
      "Percentage: 74.4\n",
      "Grade: A\n",
      "----------------------------------------------------------------------\n"
     ]
    }
   ],
   "source": [
    "\"\"\" Question 7: Write a program which takes 5 inputs from user for different subject’s marks, total it\n",
    "and generate mark sheet using grades? \"\"\"\n",
    "\n",
    "name = (input(\"Enter Your Full Name: \"));\n",
    "eng = int(input(\"Enter English Mark's: \"));\n",
    "isl = int(input(\"Enter Islamiat Mark's: \"));\n",
    "maths = int(input(\"Enter Maths Mark's: \"))\n",
    "phy = int(input(\"Enter Physics Mark's: \"));\n",
    "pst = int(input(\"Enter Pak Studies Mark's: \"));\n",
    "total_marks = 500;\n",
    "obtain_marks = eng + isl + maths + phy + pst;\n",
    "percentage = obtain_marks / total_marks * 100;\n",
    "\n",
    "print(\"------------------------------Marksheet-------------------------------\");\n",
    "\n",
    "print(\"Your Name: \" + name);\n",
    "print(\"Your English Mark's: \" + str(eng));\n",
    "print(\"Your Islamiat Mark's: \" + str(isl));\n",
    "print(\"Your Maths Mark's: \" + str(maths));\n",
    "print(\"Your Physics Mark's: \" + str(phy));\n",
    "print(\"Your Pak Studies Mark's: \" + str(pst));\n",
    "print(\"Total Mark's: 500\");\n",
    "print(\"Obtain Mark's: \" + str(obtain_marks));\n",
    "print(\"Percentage: \" + str(percentage));\n",
    "\n",
    "if percentage < 90 and percentage >= 80:\n",
    "    print(\"Grade: A+\")\n",
    "elif percentage < 80 and percentage >= 70:\n",
    "    print(\"Grade: A\")\n",
    "elif percentage < 70 and percentage >= 60:\n",
    "    print(\"Grade: B\")\n",
    "elif percentage < 60 and percentage >= 50:\n",
    "    print(\"Grade: C\")\n",
    "elif percentage < 50 and percentage >= 40:\n",
    "    print(\"Grade: E\")\n",
    "elif percentage < 40 and percentage >= 33:\n",
    "    print(\"Grade: D\")\n",
    "elif percentage < 0 or percentage > 100:\n",
    "    print(\"Please enter correct percentage\")\n",
    "else:\n",
    "    print(\"Grade: Fail\")\n",
    "print(\"----------------------------------------------------------------------\");"
   ]
  },
  {
   "cell_type": "code",
   "execution_count": 23,
   "id": "e8e79050",
   "metadata": {},
   "outputs": [
    {
     "name": "stdout",
     "output_type": "stream",
     "text": [
      "Enter any number: 5\n",
      "Your given number 5 is ODD\n"
     ]
    }
   ],
   "source": [
    "\"\"\" Question 8: Write a program which take input from user and identify that the given number is even\n",
    "or odd? \"\"\"\n",
    "# with ODD\n",
    "a = int(input(\"Enter any number: \"))\n",
    "if a % 2 == 0:\n",
    "    print(\"Your giver number \" + str(a) + \" \" + \"is Even.\");\n",
    "else:\n",
    "    print(\"Your given number \" + str(a) + \" \" + \"is ODD\");"
   ]
  },
  {
   "cell_type": "code",
   "execution_count": 24,
   "id": "8ecb2510",
   "metadata": {},
   "outputs": [
    {
     "name": "stdout",
     "output_type": "stream",
     "text": [
      "Enter any number: 100\n",
      "Your giver number 100 is Even.\n"
     ]
    }
   ],
   "source": [
    "\"\"\" Question 8: Write a program which take input from user and identify that the given number is even\n",
    "or odd? \"\"\"\n",
    "# with EVEN\n",
    "a = int(input(\"Enter any number: \"))\n",
    "if a % 2 == 0:\n",
    "    print(\"Your giver number \" + str(a) + \" \" + \"is Even.\");\n",
    "else:\n",
    "    print(\"Your given number \" + str(a) + \" \" + \"is ODD\");"
   ]
  },
  {
   "cell_type": "code",
   "execution_count": 27,
   "id": "9e1831b8",
   "metadata": {},
   "outputs": [
    {
     "name": "stdout",
     "output_type": "stream",
     "text": [
      "4\n"
     ]
    }
   ],
   "source": [
    "# Question 9: Write a program which print the length of the list?\n",
    "mylist = [\"Asad\", \"Ali\", \"Sarwar\", \"Hasnain\"];\n",
    "print(len(mylist));"
   ]
  },
  {
   "cell_type": "code",
   "execution_count": 28,
   "id": "d74b6bfe",
   "metadata": {},
   "outputs": [
    {
     "name": "stdout",
     "output_type": "stream",
     "text": [
      "45\n"
     ]
    }
   ],
   "source": [
    "# Question 10: Write a Python program to sum all the numeric items in a list?\n",
    "list1 = [0,1,2,3,4,5,6,7,8,9];\n",
    "print(sum(list1));"
   ]
  },
  {
   "cell_type": "code",
   "execution_count": 32,
   "id": "91d98c6e",
   "metadata": {},
   "outputs": [
    {
     "name": "stdout",
     "output_type": "stream",
     "text": [
      "The highest number in the list is 500\n",
      "The lowest number in the list is 10\n"
     ]
    }
   ],
   "source": [
    "# Question 11: Write a Python program to get the largest number from a numeric list.\n",
    "\n",
    "# Highest Number\n",
    "list2 = [10,20,30,40,500,70,85,100,];\n",
    "print(\"The highest number in the list is \" + str(max(list2)));\n",
    "\n",
    "# Lowest Number\n",
    "list2 = [10,20,30,40,500,70,85,100,];\n",
    "print(\"The lowest number in the list is \" + str(min(list2)));"
   ]
  },
  {
   "cell_type": "code",
   "execution_count": 41,
   "id": "fea13353",
   "metadata": {},
   "outputs": [
    {
     "name": "stdout",
     "output_type": "stream",
     "text": [
      "1\n",
      "1\n",
      "2\n",
      "3\n",
      "4\n",
      "2\n",
      "1\n",
      "1\n",
      "3\n",
      "4\n",
      "2\n"
     ]
    }
   ],
   "source": [
    "\"\"\" Question 12: Take a list, say for example this one:\n",
    "a = [1, 1, 2, 3, 5, 8, 13, 21, 34, 55, 89]\n",
    "Write a program that prints out all the elements of the list that are less than 5. \"\"\"\n",
    "\n",
    "a = [1, 1, 2, 3, 4, 2, 1, 5, 1, 3, 4, 2, 8, 13, 21, 34, 55, 89]\n",
    "for i in a:\n",
    "    if i < 5:\n",
    "        print(i);"
   ]
  }
 ],
 "metadata": {
  "kernelspec": {
   "display_name": "Python 3",
   "language": "python",
   "name": "python3"
  },
  "language_info": {
   "codemirror_mode": {
    "name": "ipython",
    "version": 3
   },
   "file_extension": ".py",
   "mimetype": "text/x-python",
   "name": "python",
   "nbconvert_exporter": "python",
   "pygments_lexer": "ipython3",
   "version": "3.8.8"
  }
 },
 "nbformat": 4,
 "nbformat_minor": 5
}
