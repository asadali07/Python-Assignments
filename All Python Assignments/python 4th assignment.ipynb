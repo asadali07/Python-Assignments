{
 "cells": [
  {
   "cell_type": "code",
   "execution_count": 35,
   "id": "1f6a18fe",
   "metadata": {},
   "outputs": [
    {
     "name": "stdout",
     "output_type": "stream",
     "text": [
      "Select Operation: \n",
      "1: Add\n",
      "2: Subtract\n",
      "3: Multiply\n",
      "4: Divide\n",
      "Your selected operation is: 2\n",
      "_______________________________________________________________________________\n",
      "Enter First Number: 5\n",
      "Enter Second Number: 100.4\n",
      "5.0 - 100.4 = -95.4\n",
      "_______________________________________________________________________________\n"
     ]
    }
   ],
   "source": [
    "# Question:1 Make a calculator using Python with addition , subtraction , multiplication ,division and power.\n",
    "\n",
    "# making functins of add, substract, multiply and divide\n",
    "\n",
    "def add(x, y):\n",
    "    return x + y\n",
    "\n",
    "def substract(x, y):\n",
    "    return x - y\n",
    "\n",
    "def multiply(x, y):\n",
    "    return x * y\n",
    "\n",
    "def divide(x, y):\n",
    "    return x / y\n",
    "\n",
    "print(\"Select Operation: \")\n",
    "print(\"1: Add\")\n",
    "print(\"2: Subtract\")\n",
    "print(\"3: Multiply\")\n",
    "print(\"4: Divide\")\n",
    "\n",
    "select = input(\"Your selected operation is: \")\n",
    "\n",
    "print(\"_______________________________________________________________________________\")\n",
    "\n",
    "if select in ('1', '2', '3', '4'):\n",
    "    num_1 = float(input(\"Enter First Number: \"))\n",
    "    num_2 = float(input(\"Enter Second Number: \"))\n",
    "\n",
    "    if select == '1':\n",
    "        print(num_1, \"+\", num_2, \"=\", add(num_1, num_2))\n",
    "        \n",
    "    elif select == '2':\n",
    "        print(num_1, \"-\", num_2, \"=\", substract(num_1, num_2))\n",
    "        \n",
    "    elif select == '3':\n",
    "        print(num_1, \"*\", num_2, \"=\", multiply(num_1, num_2))\n",
    "        \n",
    "    elif select == '4':\n",
    "        print(num_1, \"/\", num_2, \"=\", divide(num_1, num_2))\n",
    "        \n",
    "else:\n",
    "    print(\"Invalid Input\")\n",
    "    \n",
    "print(\"_______________________________________________________________________________\")"
   ]
  },
  {
   "cell_type": "code",
   "execution_count": 48,
   "id": "cdac744b",
   "metadata": {},
   "outputs": [
    {
     "name": "stdout",
     "output_type": "stream",
     "text": [
      "No numeric element found \n",
      "\n",
      "No numeric element found \n",
      "\n",
      "No numeric element found \n",
      "\n",
      "No numeric element found \n",
      "\n",
      "1\n",
      "2\n",
      "4\n"
     ]
    }
   ],
   "source": [
    "# Question:2 Write a program to check if there is any numeric value in list using for loop.\n",
    "\n",
    "my_list_1 = [\"1\", \"2\", \"asad07\", \"4\"]\n",
    "for i in my_list_1:\n",
    "    if type(i) == int:\n",
    "        print(i)\n",
    "    else:\n",
    "        print(\"No numeric element found \\n\")\n",
    "\n",
    "my_list_2 = [1, 2, 4]\n",
    "for i in my_list_2:\n",
    "    if type(i) == int:\n",
    "        print(i)\n",
    "    else:\n",
    "        print(\"No numeric element found\")"
   ]
  },
  {
   "cell_type": "code",
   "execution_count": 49,
   "id": "d0c64969",
   "metadata": {},
   "outputs": [
    {
     "name": "stdout",
     "output_type": "stream",
     "text": [
      "{1: 10, 2: 20, 3: 30, 4: 40, 5: 50}\n"
     ]
    }
   ],
   "source": [
    "# Question:3 Write a Python script to add a key to a dictionary.\n",
    "\n",
    "num = {1:10, 2:20, 3:30, 4:40}\n",
    "num [5] = 50 # add a key to a dictionary\n",
    "print(num)"
   ]
  },
  {
   "cell_type": "code",
   "execution_count": 75,
   "id": "bcfa33b5",
   "metadata": {},
   "outputs": [
    {
     "name": "stdout",
     "output_type": "stream",
     "text": [
      "15\n",
      "\n",
      "\n",
      "150\n"
     ]
    }
   ],
   "source": [
    "# Question:4 Write a Python program to sum all the numeric items in a dictionary.\n",
    "\n",
    "num = {1:10, 2:20, 3:30, 4:40}\n",
    "num [5] = 50\n",
    "print(sum(num)) \n",
    "\n",
    "print(\"\\n\")\n",
    "\n",
    "num = {1:10, 2:20, 3:30, 4:40}\n",
    "num [5] = 50\n",
    "print(sum(num.values()))"
   ]
  },
  {
   "cell_type": "code",
   "execution_count": 69,
   "id": "634396c6",
   "metadata": {},
   "outputs": [
    {
     "name": "stdout",
     "output_type": "stream",
     "text": [
      "1 2 4 "
     ]
    }
   ],
   "source": [
    "# Question:5 Write a program to identify duplicate values from list.\n",
    "\n",
    "list1 = [1, 2, 3, 9, 7, 8, 4, 1, 2, 4] \n",
    "list2 = []\n",
    "for i in list1:\n",
    "    if i not in list2:\n",
    "        list2.append(i)\n",
    "    else:\n",
    "        print(i, end = ' ')"
   ]
  },
  {
   "cell_type": "code",
   "execution_count": 70,
   "id": "ca2255a7",
   "metadata": {},
   "outputs": [
    {
     "name": "stdout",
     "output_type": "stream",
     "text": [
      "Key is already exists in a dictionary\n",
      "Key is already exists in a dictionary\n",
      "Key is not exists in a dictionary\n"
     ]
    }
   ],
   "source": [
    "# Question:6 Write a Python script to check if a given key already exists in a dictionary.\n",
    "\n",
    "my_dictionary = {1:10, 2:20, 3:30, 4:40}\n",
    "def key_present(x):\n",
    "    if x in my_dictionary:\n",
    "        print(\"Key is already exists in a dictionary\")\n",
    "    else:\n",
    "        print(\"Key is not exists in a dictionary\")\n",
    "        \n",
    "key_present(1)\n",
    "key_present(3)\n",
    "key_present(5)"
   ]
  }
 ],
 "metadata": {
  "kernelspec": {
   "display_name": "Python 3",
   "language": "python",
   "name": "python3"
  },
  "language_info": {
   "codemirror_mode": {
    "name": "ipython",
    "version": 3
   },
   "file_extension": ".py",
   "mimetype": "text/x-python",
   "name": "python",
   "nbconvert_exporter": "python",
   "pygments_lexer": "ipython3",
   "version": "3.8.8"
  }
 },
 "nbformat": 4,
 "nbformat_minor": 5
}
