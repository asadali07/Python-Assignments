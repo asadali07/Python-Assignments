{
 "cells": [
  {
   "cell_type": "code",
   "execution_count": 1,
   "id": "4af502ee",
   "metadata": {
    "tags": []
   },
   "outputs": [
    {
     "name": "stdout",
     "output_type": "stream",
     "text": [
      "Enter Your Full Name: Asad Ali\n",
      "Enter English Mark's: 65\n",
      "Enter Islamiat Mark's: 70\n",
      "Enter Maths Mark's: 84\n",
      "-----------------------------Marksheet--------------------------------\n",
      "Your Name: Asad Ali\n",
      "Your English Mark's: 65\n",
      "Your Islamiat Mark's: 70\n",
      "Your Maths Mark's: 84\n",
      "Total Mark's: 300\n",
      "Obtain Mark's: 219\n",
      "Percentage: 73.0\n",
      "Grade: A\n",
      "----------------------------------------------------------------------\n"
     ]
    }
   ],
   "source": [
    "name = (input(\"Enter Your Full Name: \"))\n",
    "eng = int(input(\"Enter English Mark's: \"))\n",
    "isl = int(input(\"Enter Islamiat Mark's: \"))\n",
    "maths = int(input(\"Enter Maths Mark's: \"))\n",
    "total_marks = 300\n",
    "obtain_marks = eng + isl + maths\n",
    "percentage = obtain_marks / total_marks * 100\n",
    "\n",
    "print(\"-----------------------------Marksheet--------------------------------\");\n",
    "print(\"Your Name: \" + name)\n",
    "print(\"Your English Mark's: \" + str(eng))\n",
    "print(\"Your Islamiat Mark's: \" + str(isl))\n",
    "print(\"Your Maths Mark's: \" + str(maths))\n",
    "print(\"Total Mark's: 300\")\n",
    "print(\"Obtain Mark's: \" + str(obtain_marks))\n",
    "print(\"Percentage: \" + str(percentage))\n",
    "\n",
    "if percentage < 90 and percentage >= 80:\n",
    "    print(\"Grade: A+\")\n",
    "elif percentage < 80 and percentage >= 70:\n",
    "    print(\"Grade: A\")\n",
    "elif percentage < 70 and percentage >= 60:\n",
    "    print(\"Grade: B\")\n",
    "elif percentage < 60 and percentage >= 50:\n",
    "    print(\"Grade: C\")\n",
    "elif percentage < 50 and percentage >= 40:\n",
    "    print(\"Grade: E\")\n",
    "elif percentage < 40 and percentage >= 33:\n",
    "    print(\"Grade: D\")\n",
    "elif percentage < 0 or percentage > 100:\n",
    "    print(\"Please enter correct percentage\")\n",
    "else:\n",
    "    print(\"Grade: Fail\")\n",
    "    \n",
    "print(\"----------------------------------------------------------------------\");"
   ]
  }
 ],
 "metadata": {
  "kernelspec": {
   "display_name": "Python 3",
   "language": "python",
   "name": "python3"
  },
  "language_info": {
   "codemirror_mode": {
    "name": "ipython",
    "version": 3
   },
   "file_extension": ".py",
   "mimetype": "text/x-python",
   "name": "python",
   "nbconvert_exporter": "python",
   "pygments_lexer": "ipython3",
   "version": "3.8.8"
  },
  "widgets": {
   "application/vnd.jupyter.widget-state+json": {
    "state": {},
    "version_major": 2,
    "version_minor": 0
   }
  }
 },
 "nbformat": 4,
 "nbformat_minor": 5
}
